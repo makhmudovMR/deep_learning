{
 "cells": [
  {
   "cell_type": "code",
   "execution_count": 70,
   "metadata": {},
   "outputs": [],
   "source": [
    "import random\n",
    "import numpy as np\n",
    "\n",
    "class Network:\n",
    "    \n",
    "    def __init__(self, sizes):\n",
    "        self.num_layers = len(sizes)\n",
    "        self.sizes = sizes\n",
    "        self.biases = [np.random.rand(give, 1) for give in sizes[1:]]\n",
    "        self.weights = [np.random.rand(give, get) for give, get, in zip(sizes[:-1], sizes[1:])]\n",
    "        self.lr = 0.1\n",
    "    def sigmoid(self, x):\n",
    "        return 1 / (1 + np.exp(-x))\n",
    "        \n",
    "    def feedforward(self, a):\n",
    "        a = np.array(a, ndmin=2).T\n",
    "        for b, w in zip(self.biases, self.weights):\n",
    "            a = self.sigmoid(np.dot(w, a) + b)\n",
    "        return a\n",
    "    \n",
    "    def train(self, inputs, traindata):\n",
    "        for _ in range(1000):\n",
    "            nabla_b, nabla_w = self.backprop(inputs, traindata)\n",
    "            nabla_b = np.array(nabla_b)\n",
    "            nabla_w = np.array(nabla_w)\n",
    "            self.weights = self.weights - (self.lr * nabla_w)\n",
    "            self.biases = self.biases - (self.lr * nabla_b)\n",
    "    \n",
    "    def backprop(self, a, t):\n",
    "        nabla_b = [np.zeros(b.shape) for b in self.biases]\n",
    "        nabla_w = [np.zeros(w.shape) for w in self.weights]\n",
    "        \n",
    "        #feedfowrward\n",
    "        \n",
    "        activation = a\n",
    "        activations = [a]\n",
    "        \n",
    "        zs = []\n",
    "        \n",
    "        for b, w in zip(self.biases, self.weights):\n",
    "            z = np.dot(w, activation) + b\n",
    "            zs.append(z)\n",
    "            \n",
    "            activation = self.sigmoid(z)\n",
    "            activations.append(activation)\n",
    "            \n",
    "        #backward pass\n",
    "        \n",
    "        delta = (activations[-1] - t) * (self.sigmoid(zs[-1]) *(1 - self.sigmoid(zs[-1])))\n",
    "        nabla_b[-1] = delta\n",
    "        nabla_w[-1] = np.dot(delta, activations[-2].transpose())\n",
    "        \n",
    "        for l in range(2, self.num_layers):\n",
    "            z = zs[-l]\n",
    "            sp = (self.sigmoid(z) * (1 - self.sigmoid(z)))\n",
    "            delta = np.dot(self.weights[-l+1].transpose(), delta) * sp\n",
    "            nabla_b[-l] = delta\n",
    "            nabla_w[-l] = np.dot(delta, activations[-l-1].transpose())\n",
    "        return (nabla_b, nabla_w)\n",
    "        \n",
    "        \n",
    "        \n",
    "    "
   ]
  },
  {
   "cell_type": "code",
   "execution_count": 71,
   "metadata": {},
   "outputs": [
    {
     "data": {
      "text/plain": [
       "array([[ 0.83689796],\n",
       "       [ 0.70844675]])"
      ]
     },
     "execution_count": 71,
     "metadata": {},
     "output_type": "execute_result"
    }
   ],
   "source": [
    "nn = Network([2,2,2])\n",
    "# nn.train([1,1], [0,0])\n",
    "nn.feedforward([1,1])"
   ]
  },
  {
   "cell_type": "code",
   "execution_count": 72,
   "metadata": {},
   "outputs": [],
   "source": [
    "a = np.array([1,1], ndmin=2).T\n",
    "t = np.array([0,1], ndmin=2).T\n",
    "\n",
    "nn.train(a, t)"
   ]
  },
  {
   "cell_type": "code",
   "execution_count": 73,
   "metadata": {},
   "outputs": [
    {
     "data": {
      "text/plain": [
       "array([[ 0.0499696 ],\n",
       "       [ 0.95264966]])"
      ]
     },
     "execution_count": 73,
     "metadata": {},
     "output_type": "execute_result"
    }
   ],
   "source": [
    "nn.feedforward([1,1])"
   ]
  },
  {
   "cell_type": "code",
   "execution_count": null,
   "metadata": {
    "collapsed": true
   },
   "outputs": [],
   "source": []
  }
 ],
 "metadata": {
  "kernelspec": {
   "display_name": "Python 3",
   "language": "python",
   "name": "python3"
  },
  "language_info": {
   "codemirror_mode": {
    "name": "ipython",
    "version": 3
   },
   "file_extension": ".py",
   "mimetype": "text/x-python",
   "name": "python",
   "nbconvert_exporter": "python",
   "pygments_lexer": "ipython3",
   "version": "3.6.3"
  }
 },
 "nbformat": 4,
 "nbformat_minor": 2
}
