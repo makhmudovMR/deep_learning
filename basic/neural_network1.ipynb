{
 "cells": [
  {
   "cell_type": "code",
   "execution_count": 1,
   "metadata": {
    "collapsed": true
   },
   "outputs": [],
   "source": [
    "import numpy as np"
   ]
  },
  {
   "cell_type": "code",
   "execution_count": 6,
   "metadata": {},
   "outputs": [
    {
     "name": "stdout",
     "output_type": "stream",
     "text": [
      "vodka: 0\n",
      "rain: 1\n",
      "friend: 1\n",
      "1\n"
     ]
    }
   ],
   "source": [
    "label = ['vodka', 'rain', 'friend']\n",
    "tmp = []\n",
    "for i in range(3):\n",
    "    tmp.append(input(label[i] + ': '))\n",
    "\n",
    "tmp = list(map(int, tmp))\n",
    "vodka, rain, friend = tmp\n",
    "\n",
    "def af(x):\n",
    "    if x >= 0.5:\n",
    "        return 1\n",
    "    else:\n",
    "        return 0\n",
    "    \n",
    "def predict(vodka, rain, friend):\n",
    "    inputs = np.array([vodka, rain,friend])\n",
    "    \n",
    "    weights_input_to_hidden_1 = [0.25, 0.25, 0] # эти соединения идут к 1-му нейрону\n",
    "    weights_input_to_hidden_2 = [0.5, -0.4, 0.9] # эти веса идут к 2-му нейрону\n",
    "    \n",
    "    weight_input_to_hidden = np.array([weights_input_to_hidden_1, weights_input_to_hidden_2])\n",
    "    \n",
    "    weight_hidden_to_output = np.array([-1, 1])\n",
    "    hidden_input = np.dot(weight_input_to_hidden, inputs)\n",
    "    \n",
    "    hidden_output = np.array([af(x) for x in hidden_input])\n",
    "    \n",
    "    output = np.dot(weight_hidden_to_output, hidden_output)\n",
    "    \n",
    "    return af(output)\n",
    "\n",
    "print(predict(vodka,rain,friend))"
   ]
  },
  {
   "cell_type": "code",
   "execution_count": 3,
   "metadata": {},
   "outputs": [
    {
     "data": {
      "text/plain": [
       "1"
      ]
     },
     "execution_count": 3,
     "metadata": {},
     "output_type": "execute_result"
    }
   ],
   "source": [
    "predict(vodka,rain,friend)"
   ]
  },
  {
   "cell_type": "code",
   "execution_count": null,
   "metadata": {
    "collapsed": true
   },
   "outputs": [],
   "source": []
  },
  {
   "cell_type": "code",
   "execution_count": null,
   "metadata": {
    "collapsed": true
   },
   "outputs": [],
   "source": []
  },
  {
   "cell_type": "code",
   "execution_count": null,
   "metadata": {
    "collapsed": true
   },
   "outputs": [],
   "source": []
  }
 ],
 "metadata": {
  "kernelspec": {
   "display_name": "Python 3",
   "language": "python",
   "name": "python3"
  },
  "language_info": {
   "codemirror_mode": {
    "name": "ipython",
    "version": 3
   },
   "file_extension": ".py",
   "mimetype": "text/x-python",
   "name": "python",
   "nbconvert_exporter": "python",
   "pygments_lexer": "ipython3",
   "version": "3.6.3"
  }
 },
 "nbformat": 4,
 "nbformat_minor": 2
}
