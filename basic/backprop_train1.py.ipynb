{
 "cells": [
  {
   "cell_type": "code",
   "execution_count": 18,
   "metadata": {},
   "outputs": [],
   "source": [
    "import numpy as np\n",
    "\n",
    "class NN:\n",
    "    \n",
    "    def __init__(self, inodes, hnodes, onodes):\n",
    "        self.wih = np.random.rand(hnodes, inodes)\n",
    "        self.who = np.random.rand(onodes, hnodes)\n",
    "        \n",
    "        self.lr = 0.1\n",
    "        \n",
    "    def sigmoid(self, x):\n",
    "        return 1 / (1 + np.exp(-x))\n",
    "    \n",
    "    def feedforward(self, x):\n",
    "        h_z = np.dot(self.wih, x)\n",
    "        h_o = self.sigmoid(h_z)\n",
    "        \n",
    "        o_z = np.dot(self.who, h_o)\n",
    "        o_o = self.sigmoid(o_z)\n",
    "        return o_o\n",
    "    \n",
    "    def train(self, x, y):\n",
    "        h_z = np.dot(self.wih, x)\n",
    "        h_o = self.sigmoid(h_z)\n",
    "        \n",
    "        o_z = np.dot(self.who, h_o)\n",
    "        o_o = self.sigmoid(o_z)\n",
    "        \n",
    "        delta = (o_o - y) * (self.sigmoid(o_z) * (1 - self.sigmoid(o_z)))\n",
    "        delta_who = np.dot(delta, h_o.T)\n",
    "        delta_wih = np.dot(np.dot(self.who.T, delta) * (self.sigmoid(h_z) * (1 - self.sigmoid(h_z))), x.T)\n",
    "        \n",
    "        self.who -= self.lr * delta_who\n",
    "        self.wih -= self.lr * delta_wih \n",
    "    "
   ]
  },
  {
   "cell_type": "code",
   "execution_count": 19,
   "metadata": {},
   "outputs": [
    {
     "name": "stdout",
     "output_type": "stream",
     "text": [
      "[[ 0.87453296]\n",
      " [ 0.82064738]]\n"
     ]
    }
   ],
   "source": [
    "x = np.array([1,1], ndmin=2).T\n",
    "y = np.array([0,0], ndmin=2).T\n",
    "nn = NN(2,4,2)\n",
    "print(nn.feedforward(x))"
   ]
  },
  {
   "cell_type": "code",
   "execution_count": 20,
   "metadata": {
    "collapsed": true
   },
   "outputs": [],
   "source": [
    "for _ in range(1000):\n",
    "    nn.train(x, y)"
   ]
  },
  {
   "cell_type": "code",
   "execution_count": 21,
   "metadata": {},
   "outputs": [
    {
     "name": "stdout",
     "output_type": "stream",
     "text": [
      "[[ 0.05261161]\n",
      " [ 0.05186387]]\n"
     ]
    }
   ],
   "source": [
    "print(nn.feedforward(x))"
   ]
  },
  {
   "cell_type": "code",
   "execution_count": null,
   "metadata": {
    "collapsed": true
   },
   "outputs": [],
   "source": []
  }
 ],
 "metadata": {
  "kernelspec": {
   "display_name": "Python 3",
   "language": "python",
   "name": "python3"
  },
  "language_info": {
   "codemirror_mode": {
    "name": "ipython",
    "version": 3
   },
   "file_extension": ".py",
   "mimetype": "text/x-python",
   "name": "python",
   "nbconvert_exporter": "python",
   "pygments_lexer": "ipython3",
   "version": "3.6.3"
  }
 },
 "nbformat": 4,
 "nbformat_minor": 2
}
