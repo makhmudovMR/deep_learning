{
 "cells": [
  {
   "cell_type": "code",
   "execution_count": 218,
   "metadata": {
    "collapsed": true
   },
   "outputs": [],
   "source": [
    "import numpy as np\n",
    "import matplotlib.pyplot as plt"
   ]
  },
  {
   "cell_type": "code",
   "execution_count": 219,
   "metadata": {
    "collapsed": true
   },
   "outputs": [],
   "source": [
    "class NN:\n",
    "    \n",
    "    def __init__(self, inodes, hnodes, onodes, lr = 0.1):\n",
    "        self.wih = np.random.rand(hnodes, inodes)\n",
    "        self.who = np.random.rand(onodes, hnodes)\n",
    "        \n",
    "        self.lr = lr\n",
    "    \n",
    "    def sigmoid(self, x):\n",
    "        return 1 / (1 + np.exp(-x))\n",
    "    \n",
    "    def predict(self, x):\n",
    "        h_z = np.dot(self.wih, x)\n",
    "        h_o = self.sigmoid(h_z)\n",
    "        \n",
    "        o_z = np.dot(self.who, h_o)\n",
    "        o_o = self.sigmoid(o_z)\n",
    "        return o_o\n",
    "    \n",
    "    def train(self, x, y):\n",
    "        h_z = np.dot(self.wih, x)\n",
    "        h_o = self.sigmoid(h_z)\n",
    "        \n",
    "        o_z = np.dot(self.who, h_o)\n",
    "        o_o = self.sigmoid(o_z)\n",
    "        \n",
    "        delta = (o_o - y) * (self.sigmoid(o_z) * (1 - self.sigmoid(o_z)))\n",
    "        delta_who = np.dot(delta, h_o.T)\n",
    "        delta_wih = np.dot(np.dot(self.who.T, delta) * (self.sigmoid(h_z) * (1 - self.sigmoid(h_z))), x.T)\n",
    "        self.who -= self.lr * delta_who\n",
    "        self.wih -= self.lr * delta_wih\n",
    "        "
   ]
  },
  {
   "cell_type": "code",
   "execution_count": 220,
   "metadata": {},
   "outputs": [
    {
     "name": "stdout",
     "output_type": "stream",
     "text": [
      "[[ 0.21101046]\n",
      " [ 0.87699669]]\n"
     ]
    }
   ],
   "source": [
    "x = np.array([1,1], ndmin=2).T\n",
    "y = np.array([0,1], ndmin=2).T\n",
    "nn = NN(2, 6, 2)\n",
    "for _ in range(100):\n",
    "    nn.train(x, y)\n",
    "print(nn.predict(x))"
   ]
  },
  {
   "cell_type": "code",
   "execution_count": 221,
   "metadata": {},
   "outputs": [],
   "source": [
    "inodes = 784\n",
    "hnodes = 100\n",
    "onodes = 10\n",
    "lr = 0.1\n",
    "\n",
    "nn = NN(inodes, hnodes, onodes, lr)\n",
    "\n",
    "test_data_file = open('mnist_dataset/mnist_test_10.csv', 'r')\n",
    "test_data_list = test_data_file.readlines()\n",
    "test_data_file.close()"
   ]
  },
  {
   "cell_type": "code",
   "execution_count": 222,
   "metadata": {},
   "outputs": [],
   "source": [
    "for _ in range(1):\n",
    "    for record in test_data_list:\n",
    "        all_values = record.split(',')\n",
    "        # масштабировать и смемстить входные значения\n",
    "        inputs = ((np.asfarray(all_values[1:]) / 255) * 0.99) + 0.01\n",
    "        inputs = np.array(inputs, ndmin=2).T\n",
    "\n",
    "\n",
    "        # формируем желаемое значение\n",
    "        targets = np.zeros(onodes) + 0.01\n",
    "        all_values[0]\n",
    "        targets[int(all_values[0])] = 0.99\n",
    "        targets = np.array(targets, ndmin=2).T\n",
    "    #     print(inputs)\n",
    "    #     print(targets)\n",
    "\n",
    "        nn.train(inputs, targets)\n"
   ]
  },
  {
   "cell_type": "code",
   "execution_count": 224,
   "metadata": {},
   "outputs": [
    {
     "name": "stdout",
     "output_type": "stream",
     "text": [
      "[[ 1.]\n",
      " [ 1.]\n",
      " [ 1.]\n",
      " [ 1.]\n",
      " [ 1.]\n",
      " [ 1.]\n",
      " [ 1.]\n",
      " [ 1.]\n",
      " [ 1.]\n",
      " [ 1.]]\n"
     ]
    }
   ],
   "source": [
    "x = test_data_list[4].split(',')\n",
    "x = (np.asfarray(x[1:]) / 255 * 0.99) + 0.01\n",
    "x = np.array(x, ndmin=2).T\n",
    "print(nn.predict(x))"
   ]
  },
  {
   "cell_type": "code",
   "execution_count": null,
   "metadata": {},
   "outputs": [],
   "source": []
  },
  {
   "cell_type": "code",
   "execution_count": null,
   "metadata": {},
   "outputs": [],
   "source": [
    "\n"
   ]
  },
  {
   "cell_type": "code",
   "execution_count": null,
   "metadata": {},
   "outputs": [],
   "source": []
  },
  {
   "cell_type": "code",
   "execution_count": null,
   "metadata": {},
   "outputs": [],
   "source": []
  },
  {
   "cell_type": "code",
   "execution_count": null,
   "metadata": {
    "collapsed": true
   },
   "outputs": [],
   "source": []
  }
 ],
 "metadata": {
  "kernelspec": {
   "display_name": "Python 3",
   "language": "python",
   "name": "python3"
  },
  "language_info": {
   "codemirror_mode": {
    "name": "ipython",
    "version": 3
   },
   "file_extension": ".py",
   "mimetype": "text/x-python",
   "name": "python",
   "nbconvert_exporter": "python",
   "pygments_lexer": "ipython3",
   "version": "3.6.3"
  }
 },
 "nbformat": 4,
 "nbformat_minor": 2
}
