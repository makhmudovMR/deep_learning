{
 "cells": [
  {
   "cell_type": "code",
   "execution_count": 91,
   "metadata": {
    "collapsed": true
   },
   "outputs": [],
   "source": [
    "import numpy as np\n",
    "import matplotlib.pyplot as plt"
   ]
  },
  {
   "cell_type": "code",
   "execution_count": 92,
   "metadata": {
    "collapsed": true
   },
   "outputs": [],
   "source": [
    "class NN:\n",
    "    \n",
    "    def __init__(self, inodes, hnodes, onodes, lr = 0.1):\n",
    "        self.wih = np.random.rand(hnodes, inodes)\n",
    "        self.who = np.random.rand(onodes, hnodes)\n",
    "        \n",
    "        self.lr = lr\n",
    "    \n",
    "    def sigmoid(self, x):\n",
    "        return 1 / (1 + np.exp(-x))\n",
    "    \n",
    "    def predict(self, x):\n",
    "        h_z = np.dot(self.wih, x)\n",
    "        h_o = self.sigmoid(h_z)\n",
    "        \n",
    "        o_z = np.dot(self.who, h_o)\n",
    "        o_o = self.sigmoid(o_z)\n",
    "        return o_o\n",
    "    \n",
    "    def train(self, x, y):\n",
    "        h_z = np.dot(self.wih, x)\n",
    "        h_o = self.sigmoid(h_z)\n",
    "        \n",
    "        o_z = np.dot(self.who, h_o)\n",
    "        o_o = self.sigmoid(o_z)\n",
    "        \n",
    "        delta = (o_o - y) * (self.sigmoid(o_z) * (1 - self.sigmoid(o_z)))\n",
    "        delta_who = np.dot(delta, h_o.T)\n",
    "        delta_wih = np.dot(np.dot(self.who.T, delta) * (self.sigmoid(h_z) * (1 - self.sigmoid(h_z))), x.T)\n",
    "        self.who -= self.lr * delta_who\n",
    "        self.wih -= self.lr * delta_wih"
   ]
  },
  {
   "cell_type": "code",
   "execution_count": 93,
   "metadata": {},
   "outputs": [
    {
     "name": "stdout",
     "output_type": "stream",
     "text": [
      "[([[1, 1, 1], [0, 0, 0], [0, 0, 0]], [1, 0]), ([[0, 0, 0], [1, 1, 1], [0, 0, 0]], [1, 0]), ([[0, 0, 0], [0, 0, 0], [1, 1, 1]], [1, 0]), ([[1, 0, 0], [1, 0, 0], [1, 0, 0]], [0, 1]), ([[0, 1, 0], [0, 1, 0], [0, 1, 0]], [0, 1]), ([[0, 0, 1], [0, 0, 1], [0, 0, 1]], [0, 1])]\n"
     ]
    }
   ],
   "source": [
    "\n",
    "DATA = [\n",
    "    (\n",
    "        [\n",
    "            [1,1,1],\n",
    "            [0,0,0],\n",
    "            [0,0,0],\n",
    "        ],\n",
    "        [1, 0]\n",
    "    ),\n",
    "    (\n",
    "        [\n",
    "            [0,0,0],\n",
    "            [1,1,1],\n",
    "            [0,0,0],\n",
    "        ],\n",
    "        [1, 0]\n",
    "    ),\n",
    "    (\n",
    "        [\n",
    "            [0,0,0],\n",
    "            [0,0,0],\n",
    "            [1,1,1],\n",
    "        ],\n",
    "        [1, 0]\n",
    "    ),\n",
    "    (\n",
    "        [\n",
    "            [1,0,0],\n",
    "            [1,0,0],\n",
    "            [1,0,0],\n",
    "        ],\n",
    "        [0, 1]\n",
    "    ),\n",
    "    (\n",
    "        [\n",
    "            [0,1,0],\n",
    "            [0,1,0],\n",
    "            [0,1,0],\n",
    "        ],\n",
    "        [0, 1]\n",
    "    ),\n",
    "    (\n",
    "        [\n",
    "            [0,0,1],\n",
    "            [0,0,1],\n",
    "            [0,0,1],\n",
    "        ],\n",
    "        [0, 1]\n",
    "    ),\n",
    "]\n",
    "print(DATA)"
   ]
  },
  {
   "cell_type": "code",
   "execution_count": 94,
   "metadata": {
    "collapsed": true
   },
   "outputs": [],
   "source": [
    "inodes = 9\n",
    "hnodes = 20\n",
    "onodes = 2\n",
    "\n",
    "nn = NN(inodes, hnodes, onodes)"
   ]
  },
  {
   "cell_type": "code",
   "execution_count": 95,
   "metadata": {},
   "outputs": [],
   "source": [
    "for _ in range(1000):\n",
    "    for item in DATA:\n",
    "        x = np.array(item[0]).reshape(9, 1)\n",
    "        y = np.array(item[1], ndmin=2).reshape(2, 1)\n",
    "        nn.train(x, y)\n"
   ]
  },
  {
   "cell_type": "code",
   "execution_count": 96,
   "metadata": {},
   "outputs": [
    {
     "data": {
      "text/plain": [
       "array([[ 0.45261044],\n",
       "       [ 0.99992619]])"
      ]
     },
     "execution_count": 96,
     "metadata": {},
     "output_type": "execute_result"
    }
   ],
   "source": [
    "a = [\n",
    "        [0,0,1],\n",
    "        [0,0,1],\n",
    "        [0,0,1]\n",
    "    ]\n",
    "\n",
    "x = np.array(a).reshape(9, 1)\n",
    "nn.predict(x)"
   ]
  },
  {
   "cell_type": "code",
   "execution_count": null,
   "metadata": {
    "collapsed": true
   },
   "outputs": [],
   "source": []
  }
 ],
 "metadata": {
  "kernelspec": {
   "display_name": "Python 3",
   "language": "python",
   "name": "python3"
  },
  "language_info": {
   "codemirror_mode": {
    "name": "ipython",
    "version": 3
   },
   "file_extension": ".py",
   "mimetype": "text/x-python",
   "name": "python",
   "nbconvert_exporter": "python",
   "pygments_lexer": "ipython3",
   "version": "3.6.3"
  }
 },
 "nbformat": 4,
 "nbformat_minor": 2
}
